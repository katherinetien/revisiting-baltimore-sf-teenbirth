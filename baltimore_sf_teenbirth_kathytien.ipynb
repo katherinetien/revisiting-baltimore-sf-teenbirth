{
  "nbformat": 4,
  "nbformat_minor": 0,
  "metadata": {
    "colab": {
      "name": "baltimore-sf-teenbirth-kathytien.ipynb",
      "provenance": [],
      "collapsed_sections": [],
      "authorship_tag": "ABX9TyO6jS+9r0Nk8Jg70DO4412x",
      "include_colab_link": true
    },
    "kernelspec": {
      "name": "python3",
      "display_name": "Python 3"
    }
  },
  "cells": [
    {
      "cell_type": "markdown",
      "metadata": {
        "id": "view-in-github",
        "colab_type": "text"
      },
      "source": [
        "<a href=\"https://colab.research.google.com/github/katherinetien/revisiting-baltimore-sf-teenbirth/blob/main/baltimore_sf_teenbirth_kathytien.ipynb\" target=\"_parent\"><img src=\"https://colab.research.google.com/assets/colab-badge.svg\" alt=\"Open In Colab\"/></a>"
      ]
    },
    {
      "cell_type": "markdown",
      "metadata": {
        "id": "lf8xeK_B1Ys-"
      },
      "source": [
        "Comparing Baltimore and San Francisco Teen Birth Rates \n",
        "\n",
        "*  how are rates different for different races of the same income level and neighborhood\n",
        "*   how are rates different for different cities"
      ]
    },
    {
      "cell_type": "markdown",
      "metadata": {
        "id": "hi1tOT62rIRf"
      },
      "source": [
        "# import libraries"
      ]
    },
    {
      "cell_type": "code",
      "metadata": {
        "colab": {
          "base_uri": "https://localhost:8080/"
        },
        "id": "B4wOQaz2CW7I",
        "outputId": "d1683972-0cb2-40ad-8173-147097b87556"
      },
      "source": [
        "pip install plotly"
      ],
      "execution_count": 1,
      "outputs": [
        {
          "output_type": "stream",
          "text": [
            "Requirement already satisfied: plotly in /usr/local/lib/python3.6/dist-packages (4.4.1)\n",
            "Requirement already satisfied: six in /usr/local/lib/python3.6/dist-packages (from plotly) (1.15.0)\n",
            "Requirement already satisfied: retrying>=1.3.3 in /usr/local/lib/python3.6/dist-packages (from plotly) (1.3.3)\n"
          ],
          "name": "stdout"
        }
      ]
    },
    {
      "cell_type": "code",
      "metadata": {
        "id": "uY_QHuD-085b"
      },
      "source": [
        "# import libraries \n",
        "\n",
        "#for data analysis \n",
        "import pandas as pd\n",
        "import numpy as np\n",
        "\n",
        "#for visualization \n",
        "import plotly.express as px"
      ],
      "execution_count": 2,
      "outputs": []
    },
    {
      "cell_type": "markdown",
      "metadata": {
        "id": "uReyL2qhr0Ya"
      },
      "source": [
        "# import data"
      ]
    },
    {
      "cell_type": "code",
      "metadata": {
        "id": "FS9Lckv8rqG_"
      },
      "source": [
        "# import data \n",
        "\n",
        "# baltimore teen birth rates for low-income black population data\n",
        "df_balt_teenbirth_b = pd.read_csv(\"https://raw.githubusercontent.com/katherinetien/comparing-baltimore-san-francisco-teenbirth/master/balt-teenbirth-b.csv\")"
      ],
      "execution_count": 3,
      "outputs": []
    },
    {
      "cell_type": "code",
      "metadata": {
        "colab": {
          "base_uri": "https://localhost:8080/",
          "height": 204
        },
        "id": "MzSF_LpG9ZCs",
        "outputId": "f8f41dbf-c921-4db9-e5d3-f79c887cb6ba"
      },
      "source": [
        "# preview data \n",
        "\n",
        "df_balt_teenbirth_b.head()"
      ],
      "execution_count": 4,
      "outputs": [
        {
          "output_type": "execute_result",
          "data": {
            "text/html": [
              "<div>\n",
              "<style scoped>\n",
              "    .dataframe tbody tr th:only-of-type {\n",
              "        vertical-align: middle;\n",
              "    }\n",
              "\n",
              "    .dataframe tbody tr th {\n",
              "        vertical-align: top;\n",
              "    }\n",
              "\n",
              "    .dataframe thead th {\n",
              "        text-align: right;\n",
              "    }\n",
              "</style>\n",
              "<table border=\"1\" class=\"dataframe\">\n",
              "  <thead>\n",
              "    <tr style=\"text-align: right;\">\n",
              "      <th></th>\n",
              "      <th>tract</th>\n",
              "      <th>Neighborhood</th>\n",
              "      <th>City</th>\n",
              "      <th>State</th>\n",
              "      <th>Teenage Birth Rate</th>\n",
              "      <th>Race</th>\n",
              "    </tr>\n",
              "  </thead>\n",
              "  <tbody>\n",
              "    <tr>\n",
              "      <th>0</th>\n",
              "      <td>24510200701</td>\n",
              "      <td>Allendale</td>\n",
              "      <td>Baltimore</td>\n",
              "      <td>MD</td>\n",
              "      <td>0.4713</td>\n",
              "      <td>Black</td>\n",
              "    </tr>\n",
              "    <tr>\n",
              "      <th>1</th>\n",
              "      <td>24510270101</td>\n",
              "      <td>Arcadia</td>\n",
              "      <td>Baltimore</td>\n",
              "      <td>MD</td>\n",
              "      <td>0.5820</td>\n",
              "      <td>Black</td>\n",
              "    </tr>\n",
              "    <tr>\n",
              "      <th>2</th>\n",
              "      <td>24510271801</td>\n",
              "      <td>Arlington</td>\n",
              "      <td>Baltimore</td>\n",
              "      <td>MD</td>\n",
              "      <td>0.5628</td>\n",
              "      <td>Black</td>\n",
              "    </tr>\n",
              "    <tr>\n",
              "      <th>3</th>\n",
              "      <td>24510260404</td>\n",
              "      <td>Baltimore Highlands</td>\n",
              "      <td>Baltimore</td>\n",
              "      <td>MD</td>\n",
              "      <td>0.5390</td>\n",
              "      <td>Black</td>\n",
              "    </tr>\n",
              "    <tr>\n",
              "      <th>4</th>\n",
              "      <td>24510260800</td>\n",
              "      <td>Baltimore Highlands</td>\n",
              "      <td>Baltimore</td>\n",
              "      <td>MD</td>\n",
              "      <td>0.3809</td>\n",
              "      <td>Black</td>\n",
              "    </tr>\n",
              "  </tbody>\n",
              "</table>\n",
              "</div>"
            ],
            "text/plain": [
              "         tract         Neighborhood  ... Teenage Birth Rate   Race\n",
              "0  24510200701            Allendale  ...             0.4713  Black\n",
              "1  24510270101              Arcadia  ...             0.5820  Black\n",
              "2  24510271801            Arlington  ...             0.5628  Black\n",
              "3  24510260404  Baltimore Highlands  ...             0.5390  Black\n",
              "4  24510260800  Baltimore Highlands  ...             0.3809  Black\n",
              "\n",
              "[5 rows x 6 columns]"
            ]
          },
          "metadata": {
            "tags": []
          },
          "execution_count": 4
        }
      ]
    },
    {
      "cell_type": "code",
      "metadata": {
        "id": "u3h1gdJyAxgq"
      },
      "source": [
        "# import rest of data\n",
        "\n",
        "# baltimore teen birth rates for low-income white population data \n",
        "df_balt_teenbirth_w = pd.read_csv(\"https://raw.githubusercontent.com/katherinetien/comparing-baltimore-san-francisco-teenbirth/master/balt-teenbirth-w1.csv\")"
      ],
      "execution_count": 5,
      "outputs": []
    },
    {
      "cell_type": "code",
      "metadata": {
        "colab": {
          "base_uri": "https://localhost:8080/",
          "height": 204
        },
        "id": "UH_96TrMGLdW",
        "outputId": "d952fef9-e1e0-463f-9714-fde69748462c"
      },
      "source": [
        "df_balt_teenbirth_w.head()"
      ],
      "execution_count": 6,
      "outputs": [
        {
          "output_type": "execute_result",
          "data": {
            "text/html": [
              "<div>\n",
              "<style scoped>\n",
              "    .dataframe tbody tr th:only-of-type {\n",
              "        vertical-align: middle;\n",
              "    }\n",
              "\n",
              "    .dataframe tbody tr th {\n",
              "        vertical-align: top;\n",
              "    }\n",
              "\n",
              "    .dataframe thead th {\n",
              "        text-align: right;\n",
              "    }\n",
              "</style>\n",
              "<table border=\"1\" class=\"dataframe\">\n",
              "  <thead>\n",
              "    <tr style=\"text-align: right;\">\n",
              "      <th></th>\n",
              "      <th>tract</th>\n",
              "      <th>Neighborhood</th>\n",
              "      <th>City</th>\n",
              "      <th>State</th>\n",
              "      <th>Teenage Birth Rate</th>\n",
              "      <th>Race</th>\n",
              "    </tr>\n",
              "  </thead>\n",
              "  <tbody>\n",
              "    <tr>\n",
              "      <th>0</th>\n",
              "      <td>24510270101</td>\n",
              "      <td>Arcadia</td>\n",
              "      <td>Baltimore</td>\n",
              "      <td>MD</td>\n",
              "      <td>0.0494</td>\n",
              "      <td>White</td>\n",
              "    </tr>\n",
              "    <tr>\n",
              "      <th>1</th>\n",
              "      <td>24510260401</td>\n",
              "      <td>Armistead Gardens</td>\n",
              "      <td>Baltimore</td>\n",
              "      <td>MD</td>\n",
              "      <td>0.2887</td>\n",
              "      <td>White</td>\n",
              "    </tr>\n",
              "    <tr>\n",
              "      <th>2</th>\n",
              "      <td>24510260404</td>\n",
              "      <td>Baltimore Highlands</td>\n",
              "      <td>Baltimore</td>\n",
              "      <td>MD</td>\n",
              "      <td>0.4296</td>\n",
              "      <td>White</td>\n",
              "    </tr>\n",
              "    <tr>\n",
              "      <th>3</th>\n",
              "      <td>24510260800</td>\n",
              "      <td>Baltimore Highlands</td>\n",
              "      <td>Baltimore</td>\n",
              "      <td>MD</td>\n",
              "      <td>0.3596</td>\n",
              "      <td>White</td>\n",
              "    </tr>\n",
              "    <tr>\n",
              "      <th>4</th>\n",
              "      <td>24510250101</td>\n",
              "      <td>Beechfield</td>\n",
              "      <td>Baltimore</td>\n",
              "      <td>MD</td>\n",
              "      <td>0.4052</td>\n",
              "      <td>White</td>\n",
              "    </tr>\n",
              "  </tbody>\n",
              "</table>\n",
              "</div>"
            ],
            "text/plain": [
              "         tract         Neighborhood  ... Teenage Birth Rate   Race\n",
              "0  24510270101              Arcadia  ...             0.0494  White\n",
              "1  24510260401    Armistead Gardens  ...             0.2887  White\n",
              "2  24510260404  Baltimore Highlands  ...             0.4296  White\n",
              "3  24510260800  Baltimore Highlands  ...             0.3596  White\n",
              "4  24510250101           Beechfield  ...             0.4052  White\n",
              "\n",
              "[5 rows x 6 columns]"
            ]
          },
          "metadata": {
            "tags": []
          },
          "execution_count": 6
        }
      ]
    },
    {
      "cell_type": "code",
      "metadata": {
        "id": "Bb8cshoRB3Sm"
      },
      "source": [
        "# sf teen birth rates for low-income black population data \n",
        "df_sf_teenbirth_b = pd.read_csv(\"https://raw.githubusercontent.com/katherinetien/comparing-baltimore-san-francisco-teenbirth/master/sf-teenbirth-b.csv\")"
      ],
      "execution_count": 7,
      "outputs": []
    },
    {
      "cell_type": "code",
      "metadata": {
        "id": "rtzpvIy1DQWn"
      },
      "source": [
        "# sf teen birth rates for low-income white population data\n",
        "df_sf_teenbirth_w = pd.read_csv(\"https://raw.githubusercontent.com/katherinetien/comparing-baltimore-san-francisco-teenbirth/master/sf-teenbirth-w.csv\")"
      ],
      "execution_count": 8,
      "outputs": []
    },
    {
      "cell_type": "code",
      "metadata": {
        "colab": {
          "base_uri": "https://localhost:8080/",
          "height": 204
        },
        "id": "WVdr9hYIDcB5",
        "outputId": "83bed52c-6595-4240-f71a-28922076d382"
      },
      "source": [
        "# preview data \n",
        "\n",
        "df_sf_teenbirth_w.tail()"
      ],
      "execution_count": 9,
      "outputs": [
        {
          "output_type": "execute_result",
          "data": {
            "text/html": [
              "<div>\n",
              "<style scoped>\n",
              "    .dataframe tbody tr th:only-of-type {\n",
              "        vertical-align: middle;\n",
              "    }\n",
              "\n",
              "    .dataframe tbody tr th {\n",
              "        vertical-align: top;\n",
              "    }\n",
              "\n",
              "    .dataframe thead th {\n",
              "        text-align: right;\n",
              "    }\n",
              "</style>\n",
              "<table border=\"1\" class=\"dataframe\">\n",
              "  <thead>\n",
              "    <tr style=\"text-align: right;\">\n",
              "      <th></th>\n",
              "      <th>tract</th>\n",
              "      <th>Neighborhood</th>\n",
              "      <th>City</th>\n",
              "      <th>State</th>\n",
              "      <th>Teenage Birth Rate</th>\n",
              "      <th>Race</th>\n",
              "    </tr>\n",
              "  </thead>\n",
              "  <tbody>\n",
              "    <tr>\n",
              "      <th>101</th>\n",
              "      <td>6075031100</td>\n",
              "      <td>Outer Mission</td>\n",
              "      <td>San Francisco</td>\n",
              "      <td>CA</td>\n",
              "      <td>0.0</td>\n",
              "      <td>White</td>\n",
              "    </tr>\n",
              "    <tr>\n",
              "      <th>102</th>\n",
              "      <td>6075022704</td>\n",
              "      <td>Potrero Hill</td>\n",
              "      <td>San Francisco</td>\n",
              "      <td>CA</td>\n",
              "      <td>0.0</td>\n",
              "      <td>White</td>\n",
              "    </tr>\n",
              "    <tr>\n",
              "      <th>103</th>\n",
              "      <td>6075060400</td>\n",
              "      <td>Lakeshore</td>\n",
              "      <td>San Francisco</td>\n",
              "      <td>CA</td>\n",
              "      <td>0.0</td>\n",
              "      <td>White</td>\n",
              "    </tr>\n",
              "    <tr>\n",
              "      <th>104</th>\n",
              "      <td>6075032902</td>\n",
              "      <td>Sunset District</td>\n",
              "      <td>San Francisco</td>\n",
              "      <td>CA</td>\n",
              "      <td>0.0</td>\n",
              "      <td>White</td>\n",
              "    </tr>\n",
              "    <tr>\n",
              "      <th>105</th>\n",
              "      <td>6075015400</td>\n",
              "      <td>Laurel Heights</td>\n",
              "      <td>San Francisco</td>\n",
              "      <td>CA</td>\n",
              "      <td>0.0</td>\n",
              "      <td>White</td>\n",
              "    </tr>\n",
              "  </tbody>\n",
              "</table>\n",
              "</div>"
            ],
            "text/plain": [
              "          tract     Neighborhood  ... Teenage Birth Rate   Race\n",
              "101  6075031100    Outer Mission  ...                0.0  White\n",
              "102  6075022704     Potrero Hill  ...                0.0  White\n",
              "103  6075060400        Lakeshore  ...                0.0  White\n",
              "104  6075032902  Sunset District  ...                0.0  White\n",
              "105  6075015400   Laurel Heights  ...                0.0  White\n",
              "\n",
              "[5 rows x 6 columns]"
            ]
          },
          "metadata": {
            "tags": []
          },
          "execution_count": 9
        }
      ]
    },
    {
      "cell_type": "markdown",
      "metadata": {
        "id": "NFdvdD-G2U_g"
      },
      "source": [
        "# filter data for baltimore city only"
      ]
    },
    {
      "cell_type": "code",
      "metadata": {
        "colab": {
          "base_uri": "https://localhost:8080/"
        },
        "id": "BPPnUkm8Dj2a",
        "outputId": "1de0131d-da43-404a-b619-19e663aeb367"
      },
      "source": [
        "# look at all of the column names\n",
        "df_balt_teenbirth_b.columns"
      ],
      "execution_count": 10,
      "outputs": [
        {
          "output_type": "execute_result",
          "data": {
            "text/plain": [
              "Index(['tract', 'Neighborhood', 'City', 'State', 'Teenage Birth Rate', 'Race'], dtype='object')"
            ]
          },
          "metadata": {
            "tags": []
          },
          "execution_count": 10
        }
      ]
    },
    {
      "cell_type": "code",
      "metadata": {
        "id": "KTUMPVv22sdp",
        "colab": {
          "base_uri": "https://localhost:8080/",
          "height": 297
        },
        "outputId": "faa6bcc1-da76-470e-fb12-b1d56c653e23"
      },
      "source": [
        "df_balt_teenbirth_b.describe()"
      ],
      "execution_count": 11,
      "outputs": [
        {
          "output_type": "execute_result",
          "data": {
            "text/html": [
              "<div>\n",
              "<style scoped>\n",
              "    .dataframe tbody tr th:only-of-type {\n",
              "        vertical-align: middle;\n",
              "    }\n",
              "\n",
              "    .dataframe tbody tr th {\n",
              "        vertical-align: top;\n",
              "    }\n",
              "\n",
              "    .dataframe thead th {\n",
              "        text-align: right;\n",
              "    }\n",
              "</style>\n",
              "<table border=\"1\" class=\"dataframe\">\n",
              "  <thead>\n",
              "    <tr style=\"text-align: right;\">\n",
              "      <th></th>\n",
              "      <th>tract</th>\n",
              "      <th>Teenage Birth Rate</th>\n",
              "    </tr>\n",
              "  </thead>\n",
              "  <tbody>\n",
              "    <tr>\n",
              "      <th>count</th>\n",
              "      <td>1.680000e+02</td>\n",
              "      <td>168.000000</td>\n",
              "    </tr>\n",
              "    <tr>\n",
              "      <th>mean</th>\n",
              "      <td>2.448013e+10</td>\n",
              "      <td>0.511733</td>\n",
              "    </tr>\n",
              "    <tr>\n",
              "      <th>std</th>\n",
              "      <td>1.198299e+08</td>\n",
              "      <td>0.092474</td>\n",
              "    </tr>\n",
              "    <tr>\n",
              "      <th>min</th>\n",
              "      <td>2.400375e+10</td>\n",
              "      <td>0.168200</td>\n",
              "    </tr>\n",
              "    <tr>\n",
              "      <th>25%</th>\n",
              "      <td>2.451011e+10</td>\n",
              "      <td>0.463975</td>\n",
              "    </tr>\n",
              "    <tr>\n",
              "      <th>50%</th>\n",
              "      <td>2.451018e+10</td>\n",
              "      <td>0.522600</td>\n",
              "    </tr>\n",
              "    <tr>\n",
              "      <th>75%</th>\n",
              "      <td>2.451026e+10</td>\n",
              "      <td>0.573600</td>\n",
              "    </tr>\n",
              "    <tr>\n",
              "      <th>max</th>\n",
              "      <td>2.451028e+10</td>\n",
              "      <td>0.712600</td>\n",
              "    </tr>\n",
              "  </tbody>\n",
              "</table>\n",
              "</div>"
            ],
            "text/plain": [
              "              tract  Teenage Birth Rate\n",
              "count  1.680000e+02          168.000000\n",
              "mean   2.448013e+10            0.511733\n",
              "std    1.198299e+08            0.092474\n",
              "min    2.400375e+10            0.168200\n",
              "25%    2.451011e+10            0.463975\n",
              "50%    2.451018e+10            0.522600\n",
              "75%    2.451026e+10            0.573600\n",
              "max    2.451028e+10            0.712600"
            ]
          },
          "metadata": {
            "tags": []
          },
          "execution_count": 11
        }
      ]
    },
    {
      "cell_type": "code",
      "metadata": {
        "colab": {
          "base_uri": "https://localhost:8080/",
          "height": 204
        },
        "id": "dHh7-RItA0q7",
        "outputId": "06ac720b-6a9f-4e7e-b639-fb6698106b1b"
      },
      "source": [
        "df_balt_teenbirth_b.head()"
      ],
      "execution_count": 12,
      "outputs": [
        {
          "output_type": "execute_result",
          "data": {
            "text/html": [
              "<div>\n",
              "<style scoped>\n",
              "    .dataframe tbody tr th:only-of-type {\n",
              "        vertical-align: middle;\n",
              "    }\n",
              "\n",
              "    .dataframe tbody tr th {\n",
              "        vertical-align: top;\n",
              "    }\n",
              "\n",
              "    .dataframe thead th {\n",
              "        text-align: right;\n",
              "    }\n",
              "</style>\n",
              "<table border=\"1\" class=\"dataframe\">\n",
              "  <thead>\n",
              "    <tr style=\"text-align: right;\">\n",
              "      <th></th>\n",
              "      <th>tract</th>\n",
              "      <th>Neighborhood</th>\n",
              "      <th>City</th>\n",
              "      <th>State</th>\n",
              "      <th>Teenage Birth Rate</th>\n",
              "      <th>Race</th>\n",
              "    </tr>\n",
              "  </thead>\n",
              "  <tbody>\n",
              "    <tr>\n",
              "      <th>0</th>\n",
              "      <td>24510200701</td>\n",
              "      <td>Allendale</td>\n",
              "      <td>Baltimore</td>\n",
              "      <td>MD</td>\n",
              "      <td>0.4713</td>\n",
              "      <td>Black</td>\n",
              "    </tr>\n",
              "    <tr>\n",
              "      <th>1</th>\n",
              "      <td>24510270101</td>\n",
              "      <td>Arcadia</td>\n",
              "      <td>Baltimore</td>\n",
              "      <td>MD</td>\n",
              "      <td>0.5820</td>\n",
              "      <td>Black</td>\n",
              "    </tr>\n",
              "    <tr>\n",
              "      <th>2</th>\n",
              "      <td>24510271801</td>\n",
              "      <td>Arlington</td>\n",
              "      <td>Baltimore</td>\n",
              "      <td>MD</td>\n",
              "      <td>0.5628</td>\n",
              "      <td>Black</td>\n",
              "    </tr>\n",
              "    <tr>\n",
              "      <th>3</th>\n",
              "      <td>24510260404</td>\n",
              "      <td>Baltimore Highlands</td>\n",
              "      <td>Baltimore</td>\n",
              "      <td>MD</td>\n",
              "      <td>0.5390</td>\n",
              "      <td>Black</td>\n",
              "    </tr>\n",
              "    <tr>\n",
              "      <th>4</th>\n",
              "      <td>24510260800</td>\n",
              "      <td>Baltimore Highlands</td>\n",
              "      <td>Baltimore</td>\n",
              "      <td>MD</td>\n",
              "      <td>0.3809</td>\n",
              "      <td>Black</td>\n",
              "    </tr>\n",
              "  </tbody>\n",
              "</table>\n",
              "</div>"
            ],
            "text/plain": [
              "         tract         Neighborhood  ... Teenage Birth Rate   Race\n",
              "0  24510200701            Allendale  ...             0.4713  Black\n",
              "1  24510270101              Arcadia  ...             0.5820  Black\n",
              "2  24510271801            Arlington  ...             0.5628  Black\n",
              "3  24510260404  Baltimore Highlands  ...             0.5390  Black\n",
              "4  24510260800  Baltimore Highlands  ...             0.3809  Black\n",
              "\n",
              "[5 rows x 6 columns]"
            ]
          },
          "metadata": {
            "tags": []
          },
          "execution_count": 12
        }
      ]
    },
    {
      "cell_type": "code",
      "metadata": {
        "id": "9l7tubdmB0-f"
      },
      "source": [
        "df_balt_teenbirth_b_onlybalt = df_balt_teenbirth_b[df_balt_teenbirth_b[\"City\"] == \"Baltimore\"]"
      ],
      "execution_count": 13,
      "outputs": []
    },
    {
      "cell_type": "markdown",
      "metadata": {
        "id": "MeNxBakfD9az"
      },
      "source": [
        "# merge data"
      ]
    },
    {
      "cell_type": "code",
      "metadata": {
        "id": "ThAW-InoCuqC"
      },
      "source": [
        "# merge baltimore data for both races\n",
        "\n",
        "df_balt_teenbirth_b_w_merge = pd.merge(df_balt_teenbirth_b[[\"tract\",\"Neighborhood\",\"City\",\"State\",\"Teenage Birth Rate\"]], \n",
        "                                       df_balt_teenbirth_w[[\"Neighborhood\",\"Teenage Birth Rate\"]], \n",
        "                                       how = \"left\", \n",
        "                                       on = \"Neighborhood\")"
      ],
      "execution_count": 14,
      "outputs": []
    },
    {
      "cell_type": "code",
      "metadata": {
        "colab": {
          "base_uri": "https://localhost:8080/",
          "height": 514
        },
        "id": "_mgbuey9Fkf_",
        "outputId": "6e3159db-f62f-4e14-a65a-8f05c9670ea6"
      },
      "source": [
        "df_balt_teenbirth_b_w_merge.head(15)"
      ],
      "execution_count": 15,
      "outputs": [
        {
          "output_type": "execute_result",
          "data": {
            "text/html": [
              "<div>\n",
              "<style scoped>\n",
              "    .dataframe tbody tr th:only-of-type {\n",
              "        vertical-align: middle;\n",
              "    }\n",
              "\n",
              "    .dataframe tbody tr th {\n",
              "        vertical-align: top;\n",
              "    }\n",
              "\n",
              "    .dataframe thead th {\n",
              "        text-align: right;\n",
              "    }\n",
              "</style>\n",
              "<table border=\"1\" class=\"dataframe\">\n",
              "  <thead>\n",
              "    <tr style=\"text-align: right;\">\n",
              "      <th></th>\n",
              "      <th>tract</th>\n",
              "      <th>Neighborhood</th>\n",
              "      <th>City</th>\n",
              "      <th>State</th>\n",
              "      <th>Teenage Birth Rate_x</th>\n",
              "      <th>Teenage Birth Rate_y</th>\n",
              "    </tr>\n",
              "  </thead>\n",
              "  <tbody>\n",
              "    <tr>\n",
              "      <th>0</th>\n",
              "      <td>24510200701</td>\n",
              "      <td>Allendale</td>\n",
              "      <td>Baltimore</td>\n",
              "      <td>MD</td>\n",
              "      <td>0.4713</td>\n",
              "      <td>NaN</td>\n",
              "    </tr>\n",
              "    <tr>\n",
              "      <th>1</th>\n",
              "      <td>24510270101</td>\n",
              "      <td>Arcadia</td>\n",
              "      <td>Baltimore</td>\n",
              "      <td>MD</td>\n",
              "      <td>0.5820</td>\n",
              "      <td>0.0494</td>\n",
              "    </tr>\n",
              "    <tr>\n",
              "      <th>2</th>\n",
              "      <td>24510271801</td>\n",
              "      <td>Arlington</td>\n",
              "      <td>Baltimore</td>\n",
              "      <td>MD</td>\n",
              "      <td>0.5628</td>\n",
              "      <td>NaN</td>\n",
              "    </tr>\n",
              "    <tr>\n",
              "      <th>3</th>\n",
              "      <td>24510260404</td>\n",
              "      <td>Baltimore Highlands</td>\n",
              "      <td>Baltimore</td>\n",
              "      <td>MD</td>\n",
              "      <td>0.5390</td>\n",
              "      <td>0.4296</td>\n",
              "    </tr>\n",
              "    <tr>\n",
              "      <th>4</th>\n",
              "      <td>24510260404</td>\n",
              "      <td>Baltimore Highlands</td>\n",
              "      <td>Baltimore</td>\n",
              "      <td>MD</td>\n",
              "      <td>0.5390</td>\n",
              "      <td>0.3596</td>\n",
              "    </tr>\n",
              "    <tr>\n",
              "      <th>5</th>\n",
              "      <td>24510260800</td>\n",
              "      <td>Baltimore Highlands</td>\n",
              "      <td>Baltimore</td>\n",
              "      <td>MD</td>\n",
              "      <td>0.3809</td>\n",
              "      <td>0.4296</td>\n",
              "    </tr>\n",
              "    <tr>\n",
              "      <th>6</th>\n",
              "      <td>24510260800</td>\n",
              "      <td>Baltimore Highlands</td>\n",
              "      <td>Baltimore</td>\n",
              "      <td>MD</td>\n",
              "      <td>0.3809</td>\n",
              "      <td>0.3596</td>\n",
              "    </tr>\n",
              "    <tr>\n",
              "      <th>7</th>\n",
              "      <td>24510120400</td>\n",
              "      <td>Barclay</td>\n",
              "      <td>Baltimore</td>\n",
              "      <td>MD</td>\n",
              "      <td>0.6161</td>\n",
              "      <td>NaN</td>\n",
              "    </tr>\n",
              "    <tr>\n",
              "      <th>8</th>\n",
              "      <td>24510250101</td>\n",
              "      <td>Beechfield</td>\n",
              "      <td>Baltimore</td>\n",
              "      <td>MD</td>\n",
              "      <td>0.5453</td>\n",
              "      <td>0.4052</td>\n",
              "    </tr>\n",
              "    <tr>\n",
              "      <th>9</th>\n",
              "      <td>24510080102</td>\n",
              "      <td>Belair - Edison</td>\n",
              "      <td>Baltimore</td>\n",
              "      <td>MD</td>\n",
              "      <td>0.5786</td>\n",
              "      <td>0.1923</td>\n",
              "    </tr>\n",
              "    <tr>\n",
              "      <th>10</th>\n",
              "      <td>24510080102</td>\n",
              "      <td>Belair - Edison</td>\n",
              "      <td>Baltimore</td>\n",
              "      <td>MD</td>\n",
              "      <td>0.5786</td>\n",
              "      <td>0.1774</td>\n",
              "    </tr>\n",
              "    <tr>\n",
              "      <th>11</th>\n",
              "      <td>24510080102</td>\n",
              "      <td>Belair - Edison</td>\n",
              "      <td>Baltimore</td>\n",
              "      <td>MD</td>\n",
              "      <td>0.5786</td>\n",
              "      <td>0.1513</td>\n",
              "    </tr>\n",
              "    <tr>\n",
              "      <th>12</th>\n",
              "      <td>24510080101</td>\n",
              "      <td>Belair - Edison</td>\n",
              "      <td>Baltimore</td>\n",
              "      <td>MD</td>\n",
              "      <td>0.5587</td>\n",
              "      <td>0.1923</td>\n",
              "    </tr>\n",
              "    <tr>\n",
              "      <th>13</th>\n",
              "      <td>24510080101</td>\n",
              "      <td>Belair - Edison</td>\n",
              "      <td>Baltimore</td>\n",
              "      <td>MD</td>\n",
              "      <td>0.5587</td>\n",
              "      <td>0.1774</td>\n",
              "    </tr>\n",
              "    <tr>\n",
              "      <th>14</th>\n",
              "      <td>24510080101</td>\n",
              "      <td>Belair - Edison</td>\n",
              "      <td>Baltimore</td>\n",
              "      <td>MD</td>\n",
              "      <td>0.5587</td>\n",
              "      <td>0.1513</td>\n",
              "    </tr>\n",
              "  </tbody>\n",
              "</table>\n",
              "</div>"
            ],
            "text/plain": [
              "          tract  ... Teenage Birth Rate_y\n",
              "0   24510200701  ...                  NaN\n",
              "1   24510270101  ...               0.0494\n",
              "2   24510271801  ...                  NaN\n",
              "3   24510260404  ...               0.4296\n",
              "4   24510260404  ...               0.3596\n",
              "5   24510260800  ...               0.4296\n",
              "6   24510260800  ...               0.3596\n",
              "7   24510120400  ...                  NaN\n",
              "8   24510250101  ...               0.4052\n",
              "9   24510080102  ...               0.1923\n",
              "10  24510080102  ...               0.1774\n",
              "11  24510080102  ...               0.1513\n",
              "12  24510080101  ...               0.1923\n",
              "13  24510080101  ...               0.1774\n",
              "14  24510080101  ...               0.1513\n",
              "\n",
              "[15 rows x 6 columns]"
            ]
          },
          "metadata": {
            "tags": []
          },
          "execution_count": 15
        }
      ]
    },
    {
      "cell_type": "code",
      "metadata": {
        "id": "FRhB90uIFoyS"
      },
      "source": [
        "# rename x for black population and y for white population\n",
        "df_balt_teenbirth_b_w_merge = df_balt_teenbirth_b_w_merge.rename(columns={\"Teenage Birth Rate_x\": \"Teenage Birth Rate_Black\",\n",
        "                                            \"Teenage Birth Rate_y\": \"Teenage Birth Rate_White\"})"
      ],
      "execution_count": 16,
      "outputs": []
    },
    {
      "cell_type": "code",
      "metadata": {
        "colab": {
          "base_uri": "https://localhost:8080/",
          "height": 204
        },
        "id": "2n_FobuENPTD",
        "outputId": "7de12d79-c653-4fa5-cb09-2b6aa723eee9"
      },
      "source": [
        "df_balt_teenbirth_b_w_merge.head()"
      ],
      "execution_count": 17,
      "outputs": [
        {
          "output_type": "execute_result",
          "data": {
            "text/html": [
              "<div>\n",
              "<style scoped>\n",
              "    .dataframe tbody tr th:only-of-type {\n",
              "        vertical-align: middle;\n",
              "    }\n",
              "\n",
              "    .dataframe tbody tr th {\n",
              "        vertical-align: top;\n",
              "    }\n",
              "\n",
              "    .dataframe thead th {\n",
              "        text-align: right;\n",
              "    }\n",
              "</style>\n",
              "<table border=\"1\" class=\"dataframe\">\n",
              "  <thead>\n",
              "    <tr style=\"text-align: right;\">\n",
              "      <th></th>\n",
              "      <th>tract</th>\n",
              "      <th>Neighborhood</th>\n",
              "      <th>City</th>\n",
              "      <th>State</th>\n",
              "      <th>Teenage Birth Rate_Black</th>\n",
              "      <th>Teenage Birth Rate_White</th>\n",
              "    </tr>\n",
              "  </thead>\n",
              "  <tbody>\n",
              "    <tr>\n",
              "      <th>0</th>\n",
              "      <td>24510200701</td>\n",
              "      <td>Allendale</td>\n",
              "      <td>Baltimore</td>\n",
              "      <td>MD</td>\n",
              "      <td>0.4713</td>\n",
              "      <td>NaN</td>\n",
              "    </tr>\n",
              "    <tr>\n",
              "      <th>1</th>\n",
              "      <td>24510270101</td>\n",
              "      <td>Arcadia</td>\n",
              "      <td>Baltimore</td>\n",
              "      <td>MD</td>\n",
              "      <td>0.5820</td>\n",
              "      <td>0.0494</td>\n",
              "    </tr>\n",
              "    <tr>\n",
              "      <th>2</th>\n",
              "      <td>24510271801</td>\n",
              "      <td>Arlington</td>\n",
              "      <td>Baltimore</td>\n",
              "      <td>MD</td>\n",
              "      <td>0.5628</td>\n",
              "      <td>NaN</td>\n",
              "    </tr>\n",
              "    <tr>\n",
              "      <th>3</th>\n",
              "      <td>24510260404</td>\n",
              "      <td>Baltimore Highlands</td>\n",
              "      <td>Baltimore</td>\n",
              "      <td>MD</td>\n",
              "      <td>0.5390</td>\n",
              "      <td>0.4296</td>\n",
              "    </tr>\n",
              "    <tr>\n",
              "      <th>4</th>\n",
              "      <td>24510260404</td>\n",
              "      <td>Baltimore Highlands</td>\n",
              "      <td>Baltimore</td>\n",
              "      <td>MD</td>\n",
              "      <td>0.5390</td>\n",
              "      <td>0.3596</td>\n",
              "    </tr>\n",
              "  </tbody>\n",
              "</table>\n",
              "</div>"
            ],
            "text/plain": [
              "         tract  ... Teenage Birth Rate_White\n",
              "0  24510200701  ...                      NaN\n",
              "1  24510270101  ...                   0.0494\n",
              "2  24510271801  ...                      NaN\n",
              "3  24510260404  ...                   0.4296\n",
              "4  24510260404  ...                   0.3596\n",
              "\n",
              "[5 rows x 6 columns]"
            ]
          },
          "metadata": {
            "tags": []
          },
          "execution_count": 17
        }
      ]
    },
    {
      "cell_type": "code",
      "metadata": {
        "id": "ukaY2bNqCyO9"
      },
      "source": [
        "# merge sf data for both races\n",
        "df_sf_teenbirth_b_w_merge = pd.merge(df_sf_teenbirth_b[[\"tract\",\"Neighborhood\",\"City\",\"State\",\"Teenage Birth Rate\"]], \n",
        "                                       df_sf_teenbirth_w[[\"Neighborhood\",\"Teenage Birth Rate\"]], \n",
        "                                       how = \"left\", \n",
        "                                       on = \"Neighborhood\")"
      ],
      "execution_count": 18,
      "outputs": []
    },
    {
      "cell_type": "code",
      "metadata": {
        "colab": {
          "base_uri": "https://localhost:8080/",
          "height": 514
        },
        "id": "Y2W9RPaIEdQy",
        "outputId": "9b679e8c-294c-4033-9954-58ca75218110"
      },
      "source": [
        "df_sf_teenbirth_b_w_merge.head(15)"
      ],
      "execution_count": 19,
      "outputs": [
        {
          "output_type": "execute_result",
          "data": {
            "text/html": [
              "<div>\n",
              "<style scoped>\n",
              "    .dataframe tbody tr th:only-of-type {\n",
              "        vertical-align: middle;\n",
              "    }\n",
              "\n",
              "    .dataframe tbody tr th {\n",
              "        vertical-align: top;\n",
              "    }\n",
              "\n",
              "    .dataframe thead th {\n",
              "        text-align: right;\n",
              "    }\n",
              "</style>\n",
              "<table border=\"1\" class=\"dataframe\">\n",
              "  <thead>\n",
              "    <tr style=\"text-align: right;\">\n",
              "      <th></th>\n",
              "      <th>tract</th>\n",
              "      <th>Neighborhood</th>\n",
              "      <th>City</th>\n",
              "      <th>State</th>\n",
              "      <th>Teenage Birth Rate_x</th>\n",
              "      <th>Teenage Birth Rate_y</th>\n",
              "    </tr>\n",
              "  </thead>\n",
              "  <tbody>\n",
              "    <tr>\n",
              "      <th>0</th>\n",
              "      <td>6075026401</td>\n",
              "      <td>Visitacion Valley</td>\n",
              "      <td>San Francisco</td>\n",
              "      <td>CA</td>\n",
              "      <td>0.6899</td>\n",
              "      <td>NaN</td>\n",
              "    </tr>\n",
              "    <tr>\n",
              "      <th>1</th>\n",
              "      <td>6075015400</td>\n",
              "      <td>Laurel Heights</td>\n",
              "      <td>San Francisco</td>\n",
              "      <td>CA</td>\n",
              "      <td>0.5801</td>\n",
              "      <td>0.0000</td>\n",
              "    </tr>\n",
              "    <tr>\n",
              "      <th>2</th>\n",
              "      <td>6075023300</td>\n",
              "      <td>Bayview</td>\n",
              "      <td>San Francisco</td>\n",
              "      <td>CA</td>\n",
              "      <td>0.5746</td>\n",
              "      <td>NaN</td>\n",
              "    </tr>\n",
              "    <tr>\n",
              "      <th>3</th>\n",
              "      <td>6075023103</td>\n",
              "      <td>Bayview</td>\n",
              "      <td>San Francisco</td>\n",
              "      <td>CA</td>\n",
              "      <td>0.5402</td>\n",
              "      <td>NaN</td>\n",
              "    </tr>\n",
              "    <tr>\n",
              "      <th>4</th>\n",
              "      <td>6075023003</td>\n",
              "      <td>Bayview</td>\n",
              "      <td>San Francisco</td>\n",
              "      <td>CA</td>\n",
              "      <td>0.4741</td>\n",
              "      <td>NaN</td>\n",
              "    </tr>\n",
              "    <tr>\n",
              "      <th>5</th>\n",
              "      <td>6075061400</td>\n",
              "      <td>Potrero Hill</td>\n",
              "      <td>San Francisco</td>\n",
              "      <td>CA</td>\n",
              "      <td>0.4642</td>\n",
              "      <td>0.0783</td>\n",
              "    </tr>\n",
              "    <tr>\n",
              "      <th>6</th>\n",
              "      <td>6075061400</td>\n",
              "      <td>Potrero Hill</td>\n",
              "      <td>San Francisco</td>\n",
              "      <td>CA</td>\n",
              "      <td>0.4642</td>\n",
              "      <td>0.0330</td>\n",
              "    </tr>\n",
              "    <tr>\n",
              "      <th>7</th>\n",
              "      <td>6075061400</td>\n",
              "      <td>Potrero Hill</td>\n",
              "      <td>San Francisco</td>\n",
              "      <td>CA</td>\n",
              "      <td>0.4642</td>\n",
              "      <td>0.0000</td>\n",
              "    </tr>\n",
              "    <tr>\n",
              "      <th>8</th>\n",
              "      <td>6075060502</td>\n",
              "      <td>Sunnydale</td>\n",
              "      <td>San Francisco</td>\n",
              "      <td>CA</td>\n",
              "      <td>0.4484</td>\n",
              "      <td>NaN</td>\n",
              "    </tr>\n",
              "    <tr>\n",
              "      <th>9</th>\n",
              "      <td>6075023102</td>\n",
              "      <td>Bayview</td>\n",
              "      <td>San Francisco</td>\n",
              "      <td>CA</td>\n",
              "      <td>0.4481</td>\n",
              "      <td>NaN</td>\n",
              "    </tr>\n",
              "    <tr>\n",
              "      <th>10</th>\n",
              "      <td>6075023400</td>\n",
              "      <td>Bayview</td>\n",
              "      <td>San Francisco</td>\n",
              "      <td>CA</td>\n",
              "      <td>0.4458</td>\n",
              "      <td>NaN</td>\n",
              "    </tr>\n",
              "    <tr>\n",
              "      <th>11</th>\n",
              "      <td>6075017902</td>\n",
              "      <td>Treasure Island</td>\n",
              "      <td>San Francisco</td>\n",
              "      <td>CA</td>\n",
              "      <td>0.4370</td>\n",
              "      <td>0.0860</td>\n",
              "    </tr>\n",
              "    <tr>\n",
              "      <th>12</th>\n",
              "      <td>6075031202</td>\n",
              "      <td>Ingleside</td>\n",
              "      <td>San Francisco</td>\n",
              "      <td>CA</td>\n",
              "      <td>0.4148</td>\n",
              "      <td>0.0000</td>\n",
              "    </tr>\n",
              "    <tr>\n",
              "      <th>13</th>\n",
              "      <td>6075025402</td>\n",
              "      <td>Bernal Heights</td>\n",
              "      <td>San Francisco</td>\n",
              "      <td>CA</td>\n",
              "      <td>0.4127</td>\n",
              "      <td>0.6662</td>\n",
              "    </tr>\n",
              "    <tr>\n",
              "      <th>14</th>\n",
              "      <td>6075025402</td>\n",
              "      <td>Bernal Heights</td>\n",
              "      <td>San Francisco</td>\n",
              "      <td>CA</td>\n",
              "      <td>0.4127</td>\n",
              "      <td>0.1160</td>\n",
              "    </tr>\n",
              "  </tbody>\n",
              "</table>\n",
              "</div>"
            ],
            "text/plain": [
              "         tract       Neighborhood  ... Teenage Birth Rate_x Teenage Birth Rate_y\n",
              "0   6075026401  Visitacion Valley  ...               0.6899                  NaN\n",
              "1   6075015400     Laurel Heights  ...               0.5801               0.0000\n",
              "2   6075023300            Bayview  ...               0.5746                  NaN\n",
              "3   6075023103            Bayview  ...               0.5402                  NaN\n",
              "4   6075023003            Bayview  ...               0.4741                  NaN\n",
              "5   6075061400       Potrero Hill  ...               0.4642               0.0783\n",
              "6   6075061400       Potrero Hill  ...               0.4642               0.0330\n",
              "7   6075061400       Potrero Hill  ...               0.4642               0.0000\n",
              "8   6075060502          Sunnydale  ...               0.4484                  NaN\n",
              "9   6075023102            Bayview  ...               0.4481                  NaN\n",
              "10  6075023400            Bayview  ...               0.4458                  NaN\n",
              "11  6075017902    Treasure Island  ...               0.4370               0.0860\n",
              "12  6075031202          Ingleside  ...               0.4148               0.0000\n",
              "13  6075025402     Bernal Heights  ...               0.4127               0.6662\n",
              "14  6075025402     Bernal Heights  ...               0.4127               0.1160\n",
              "\n",
              "[15 rows x 6 columns]"
            ]
          },
          "metadata": {
            "tags": []
          },
          "execution_count": 19
        }
      ]
    },
    {
      "cell_type": "code",
      "metadata": {
        "id": "hk3YbM3PEiVq"
      },
      "source": [
        "# rename x for black population and y for white population\n",
        "df_sf_teenbirth_b_w_merge = df_sf_teenbirth_b_w_merge.rename(columns={\"Teenage Birth Rate_x\": \"Teenage Birth Rate_Black\",\n",
        "                                            \"Teenage Birth Rate_y\": \"Teenage Birth Rate_White\"})"
      ],
      "execution_count": 20,
      "outputs": []
    },
    {
      "cell_type": "code",
      "metadata": {
        "colab": {
          "base_uri": "https://localhost:8080/",
          "height": 514
        },
        "id": "-R4lBC_NErW6",
        "outputId": "56302fcb-2c62-4e01-9a77-d1c2f5d7871d"
      },
      "source": [
        "df_sf_teenbirth_b_w_merge.head(15)"
      ],
      "execution_count": 21,
      "outputs": [
        {
          "output_type": "execute_result",
          "data": {
            "text/html": [
              "<div>\n",
              "<style scoped>\n",
              "    .dataframe tbody tr th:only-of-type {\n",
              "        vertical-align: middle;\n",
              "    }\n",
              "\n",
              "    .dataframe tbody tr th {\n",
              "        vertical-align: top;\n",
              "    }\n",
              "\n",
              "    .dataframe thead th {\n",
              "        text-align: right;\n",
              "    }\n",
              "</style>\n",
              "<table border=\"1\" class=\"dataframe\">\n",
              "  <thead>\n",
              "    <tr style=\"text-align: right;\">\n",
              "      <th></th>\n",
              "      <th>tract</th>\n",
              "      <th>Neighborhood</th>\n",
              "      <th>City</th>\n",
              "      <th>State</th>\n",
              "      <th>Teenage Birth Rate_Black</th>\n",
              "      <th>Teenage Birth Rate_White</th>\n",
              "    </tr>\n",
              "  </thead>\n",
              "  <tbody>\n",
              "    <tr>\n",
              "      <th>0</th>\n",
              "      <td>6075026401</td>\n",
              "      <td>Visitacion Valley</td>\n",
              "      <td>San Francisco</td>\n",
              "      <td>CA</td>\n",
              "      <td>0.6899</td>\n",
              "      <td>NaN</td>\n",
              "    </tr>\n",
              "    <tr>\n",
              "      <th>1</th>\n",
              "      <td>6075015400</td>\n",
              "      <td>Laurel Heights</td>\n",
              "      <td>San Francisco</td>\n",
              "      <td>CA</td>\n",
              "      <td>0.5801</td>\n",
              "      <td>0.0000</td>\n",
              "    </tr>\n",
              "    <tr>\n",
              "      <th>2</th>\n",
              "      <td>6075023300</td>\n",
              "      <td>Bayview</td>\n",
              "      <td>San Francisco</td>\n",
              "      <td>CA</td>\n",
              "      <td>0.5746</td>\n",
              "      <td>NaN</td>\n",
              "    </tr>\n",
              "    <tr>\n",
              "      <th>3</th>\n",
              "      <td>6075023103</td>\n",
              "      <td>Bayview</td>\n",
              "      <td>San Francisco</td>\n",
              "      <td>CA</td>\n",
              "      <td>0.5402</td>\n",
              "      <td>NaN</td>\n",
              "    </tr>\n",
              "    <tr>\n",
              "      <th>4</th>\n",
              "      <td>6075023003</td>\n",
              "      <td>Bayview</td>\n",
              "      <td>San Francisco</td>\n",
              "      <td>CA</td>\n",
              "      <td>0.4741</td>\n",
              "      <td>NaN</td>\n",
              "    </tr>\n",
              "    <tr>\n",
              "      <th>5</th>\n",
              "      <td>6075061400</td>\n",
              "      <td>Potrero Hill</td>\n",
              "      <td>San Francisco</td>\n",
              "      <td>CA</td>\n",
              "      <td>0.4642</td>\n",
              "      <td>0.0783</td>\n",
              "    </tr>\n",
              "    <tr>\n",
              "      <th>6</th>\n",
              "      <td>6075061400</td>\n",
              "      <td>Potrero Hill</td>\n",
              "      <td>San Francisco</td>\n",
              "      <td>CA</td>\n",
              "      <td>0.4642</td>\n",
              "      <td>0.0330</td>\n",
              "    </tr>\n",
              "    <tr>\n",
              "      <th>7</th>\n",
              "      <td>6075061400</td>\n",
              "      <td>Potrero Hill</td>\n",
              "      <td>San Francisco</td>\n",
              "      <td>CA</td>\n",
              "      <td>0.4642</td>\n",
              "      <td>0.0000</td>\n",
              "    </tr>\n",
              "    <tr>\n",
              "      <th>8</th>\n",
              "      <td>6075060502</td>\n",
              "      <td>Sunnydale</td>\n",
              "      <td>San Francisco</td>\n",
              "      <td>CA</td>\n",
              "      <td>0.4484</td>\n",
              "      <td>NaN</td>\n",
              "    </tr>\n",
              "    <tr>\n",
              "      <th>9</th>\n",
              "      <td>6075023102</td>\n",
              "      <td>Bayview</td>\n",
              "      <td>San Francisco</td>\n",
              "      <td>CA</td>\n",
              "      <td>0.4481</td>\n",
              "      <td>NaN</td>\n",
              "    </tr>\n",
              "    <tr>\n",
              "      <th>10</th>\n",
              "      <td>6075023400</td>\n",
              "      <td>Bayview</td>\n",
              "      <td>San Francisco</td>\n",
              "      <td>CA</td>\n",
              "      <td>0.4458</td>\n",
              "      <td>NaN</td>\n",
              "    </tr>\n",
              "    <tr>\n",
              "      <th>11</th>\n",
              "      <td>6075017902</td>\n",
              "      <td>Treasure Island</td>\n",
              "      <td>San Francisco</td>\n",
              "      <td>CA</td>\n",
              "      <td>0.4370</td>\n",
              "      <td>0.0860</td>\n",
              "    </tr>\n",
              "    <tr>\n",
              "      <th>12</th>\n",
              "      <td>6075031202</td>\n",
              "      <td>Ingleside</td>\n",
              "      <td>San Francisco</td>\n",
              "      <td>CA</td>\n",
              "      <td>0.4148</td>\n",
              "      <td>0.0000</td>\n",
              "    </tr>\n",
              "    <tr>\n",
              "      <th>13</th>\n",
              "      <td>6075025402</td>\n",
              "      <td>Bernal Heights</td>\n",
              "      <td>San Francisco</td>\n",
              "      <td>CA</td>\n",
              "      <td>0.4127</td>\n",
              "      <td>0.6662</td>\n",
              "    </tr>\n",
              "    <tr>\n",
              "      <th>14</th>\n",
              "      <td>6075025402</td>\n",
              "      <td>Bernal Heights</td>\n",
              "      <td>San Francisco</td>\n",
              "      <td>CA</td>\n",
              "      <td>0.4127</td>\n",
              "      <td>0.1160</td>\n",
              "    </tr>\n",
              "  </tbody>\n",
              "</table>\n",
              "</div>"
            ],
            "text/plain": [
              "         tract  ... Teenage Birth Rate_White\n",
              "0   6075026401  ...                      NaN\n",
              "1   6075015400  ...                   0.0000\n",
              "2   6075023300  ...                      NaN\n",
              "3   6075023103  ...                      NaN\n",
              "4   6075023003  ...                      NaN\n",
              "5   6075061400  ...                   0.0783\n",
              "6   6075061400  ...                   0.0330\n",
              "7   6075061400  ...                   0.0000\n",
              "8   6075060502  ...                      NaN\n",
              "9   6075023102  ...                      NaN\n",
              "10  6075023400  ...                      NaN\n",
              "11  6075017902  ...                   0.0860\n",
              "12  6075031202  ...                   0.0000\n",
              "13  6075025402  ...                   0.6662\n",
              "14  6075025402  ...                   0.1160\n",
              "\n",
              "[15 rows x 6 columns]"
            ]
          },
          "metadata": {
            "tags": []
          },
          "execution_count": 21
        }
      ]
    },
    {
      "cell_type": "markdown",
      "metadata": {
        "id": "bcFySbHtCjhF"
      },
      "source": [
        "# bar graph of teen birth rates by neighborhood in both cities"
      ]
    },
    {
      "cell_type": "code",
      "metadata": {
        "id": "Tk5XrwSRO5bE"
      },
      "source": [
        "# create baltimore data bar graph \n",
        "\n",
        "bar_balt_teenbirth = px.bar(df_balt_teenbirth_b_w_merge, x= \"Neighborhood\", y= \"Teenage Birth Rate_Black\", title= \"test\" )"
      ],
      "execution_count": 23,
      "outputs": []
    },
    {
      "cell_type": "code",
      "metadata": {
        "colab": {
          "base_uri": "https://localhost:8080/",
          "height": 542
        },
        "id": "Qb8j-TuqTAhv",
        "outputId": "567c3832-84ae-403f-a1fb-71f3eb7d414e"
      },
      "source": [
        "bar_balt_teenbirth"
      ],
      "execution_count": 24,
      "outputs": [
        {
          "output_type": "display_data",
          "data": {
            "text/html": [
              "<html>\n",
              "<head><meta charset=\"utf-8\" /></head>\n",
              "<body>\n",
              "    <div>\n",
              "            <script src=\"https://cdnjs.cloudflare.com/ajax/libs/mathjax/2.7.5/MathJax.js?config=TeX-AMS-MML_SVG\"></script><script type=\"text/javascript\">if (window.MathJax) {MathJax.Hub.Config({SVG: {font: \"STIX-Web\"}});}</script>\n",
              "                <script type=\"text/javascript\">window.PlotlyConfig = {MathJaxConfig: 'local'};</script>\n",
              "        <script src=\"https://cdn.plot.ly/plotly-latest.min.js\"></script>    \n",
              "            <div id=\"9507170f-fa95-4efb-8813-0204111d95fd\" class=\"plotly-graph-div\" style=\"height:525px; width:100%;\"></div>\n",
              "            <script type=\"text/javascript\">\n",
              "                \n",
              "                    window.PLOTLYENV=window.PLOTLYENV || {};\n",
              "                    \n",
              "                if (document.getElementById(\"9507170f-fa95-4efb-8813-0204111d95fd\")) {\n",
              "                    Plotly.newPlot(\n",
              "                        '9507170f-fa95-4efb-8813-0204111d95fd',\n",
              "                        [{\"alignmentgroup\": \"True\", \"hoverlabel\": {\"namelength\": 0}, \"hovertemplate\": \"Neighborhood=%{x}<br>Teenage Birth Rate_Black=%{y}\", \"legendgroup\": \"\", \"marker\": {\"color\": \"#636efa\"}, \"name\": \"\", \"offsetgroup\": \"\", \"orientation\": \"v\", \"showlegend\": false, \"textposition\": \"auto\", \"type\": \"bar\", \"x\": [\"Allendale\", \"Arcadia\", \"Arlington\", \"Baltimore Highlands\", \"Baltimore Highlands\", \"Baltimore Highlands\", \"Baltimore Highlands\", \"Barclay\", \"Beechfield\", \"Belair - Edison\", \"Belair - Edison\", \"Belair - Edison\", \"Belair - Edison\", \"Belair - Edison\", \"Belair - Edison\", \"Belair - Edison\", \"Belair - Edison\", \"Belair - Edison\", \"Belair - Edison\", \"Belair - Edison\", \"Belair - Edison\", \"Bentalou-Smallwood\", \"Berea\", \"Berea\", \"Better Waverly\", \"Better Waverly\", \"Bolton Hill\", \"Bridgeview-Greenlawn\", \"Broadway East\", \"Broadway East\", \"Broadway East\", \"Broadway East\", \"Broadway East\", \"Brooklyn\", \"Brooklyn\", \"Brooklyn\", \"Brooklyn\", \"Brooklyn\", \"Brooklyn\", \"Brooklyn\", \"Brooklyn\", \"Brooklyn\", \"Burleith-Leighton\", \"Butchers Hill\", \"Cedmont\", \"Cedonia\", \"Central Park Heights\", \"Central Park Heights\", \"Cherry Hill\", \"Cherry Hill\", \"Cherry Hill\", \"Claremont - Freedom\", \"Cold Springs\", \"Coldstream - Homestead - Montebello\", \"Coldstream - Homestead - Montebello\", \"Coppin Heights\", \"Cross Country\", \"Curtis Bay\", \"Darley Park\", \"Dorchester\", \"Downtown\", \"Downtown\", \"Downtown\", \"Downtown\", \"Downtown\", \"Druid Heights\", \"East Arlington\", \"East Baltimore Midway\", \"Edgecomb\", \"Edmondson\", \"Edmondson\", \"Ednor Gardens - Lakeside\", \"Ednor Gardens - Lakeside\", \"Ednor Gardens - Lakeside\", \"Ednor Gardens - Lakeside\", \"Ednor Gardens - Lakeside\", \"Ednor Gardens - Lakeside\", \"Fallstaff\", \"Frankford\", \"Frankford\", \"Frankford\", \"Frankford\", \"Frankford\", \"Frankford\", \"Frankford\", \"Frankford\", \"Franklin Square\", \"Garwyn Oaks\", \"Gay Street\", \"Glen\", \"Glen\", \"Glen\", \"Glen\", \"Glenham-Belford\", \"Glenham-Belford\", \"Glenham-Belford\", \"Glenham-Belford\", \"Greenmount West\", \"Gwynn Oak\", \"Gwynn Oak\", \"Gwynn Oak\", \"Gwynn Oak\", \"Gwynn Oak\", \"Gwynn Oak\", \"Gwynn Oak\", \"Gwynn Oak\", \"Gwynn Oak\", \"Gwynn Oak\", \"Gwynn Oak\", \"Gwynn Oak\", \"Gwynn Oak\", \"Gwynn Oak\", \"Gwynn Oak\", \"Gwynn Oak\", \"Gwynn Oak\", \"Gwynn Oak\", \"Gwynn Oak\", \"Gwynn Oak\", \"Gwynn Oak\", \"Gwynn Oak\", \"Gwynn Oak\", \"Gwynn Oak\", \"Hanlon Longwood\", \"Harford - Echodale - Perring Parkway\", \"Harford - Echodale - Perring Parkway\", \"Harford - Echodale - Perring Parkway\", \"Harford - Echodale - Perring Parkway\", \"Harford - Echodale - Perring Parkway\", \"Harford - Echodale - Perring Parkway\", \"Harlem Park\", \"Harwood\", \"Hillen\", \"Hollins Market\", \"Homeland\", \"Idlewood\", \"Irvington\", \"Irvington\", \"Johnson Square\", \"Lake Walker\", \"Lakeland\", \"Langston Hughes\", \"Lauraville\", \"Lauraville\", \"Lauraville\", \"Lauraville\", \"Lexington\", \"Lexington\", \"Little Italy\", \"Loch Raven\", \"Madison - Eastend\", \"McCulloh Homes\", \"Medfield\", \"Medford - Broening\", \"Mid-Govans\", \"Midtown Edmondson\", \"Mill Hill\", \"Milton - Montford\", \"Mondawmin\", \"Mosher\", \"Mount Clare\", \"Mount Washington\", \"New Northwood\", \"North Harford Road\", \"North Harford Road\", \"North Harford Road\", \"North Harford Road\", \"NW Community Action\", \"O'Donnell Heights\", \"Old Goucher\", \"Oliver\", \"Park Circle\", \"Parkside\", \"Patterson Park\", \"Patterson Park\", \"Patterson Park\", \"Patterson Park\", \"Patterson Park\", \"Patterson Park\", \"Patterson Park\", \"Patterson Park\", \"Patterson Park\", \"Penn North\", \"Perkins Homes\", \"Perring Loch\", \"Pigtown\", \"Pigtown\", \"Pigtown\", \"Pigtown\", \"Pleasant View Gardens\", \"Poppleton\", \"Poppleton\", \"Pratt Monroe\", \"Radnor - Winston\", \"Ramblewood\", \"Reisterstown Station\", \"Remington\", \"Reservoir Hill\", \"Reservoir Hill\", \"Rognel Heights\", \"Rosemont\", \"Saint Joseph's\", \"Sandtown-Winchester\", \"Sandtown-Winchester\", \"Sandtown-Winchester\", \"Sandtown-Winchester\", \"Shipley Hill\", \"Tuscany - Canterbury\", \"Upper Fells Point\", \"Upper Fells Point\", \"Upper Fells Point\", \"Upton\", \"Upton\", \"Violetville\", \"Walbrook\", \"Waltherson\", \"Waltherson\", \"Waltherson\", \"Waltherson\", \"West Forest Park\", \"Westgate\", \"Westport\", \"Windsor Hills\", \"Windsor Mill\", \"Windsor Mill\", \"Windsor Mill\", \"Windsor Mill\", \"Windsor Mill\", \"Windsor Mill\", \"Windsor Mill\", \"Windsor Mill\", \"Windsor Mill\", \"Windsor Mill\", \"Windsor Mill\", \"Windsor Mill\", \"Winston - Govans\", \"Woodbrook\", \"Woodring\", \"Yale Heights\"], \"xaxis\": \"x\", \"y\": [0.4713, 0.5820000000000001, 0.5628, 0.539, 0.539, 0.3809, 0.3809, 0.6161, 0.5453, 0.5786, 0.5786, 0.5786, 0.5587, 0.5587, 0.5587, 0.5383, 0.5383, 0.5383, 0.4931, 0.4931, 0.4931, 0.657, 0.5916, 0.5647, 0.5767, 0.5657, 0.5896, 0.4876, 0.6168, 0.5918, 0.5905, 0.5726, 0.5398, 0.5641, 0.5641, 0.5641, 0.5354, 0.5354, 0.5354, 0.3509, 0.3509, 0.3509, 0.5875, 0.6198, 0.5936, 0.5808, 0.5356, 0.4682, 0.6454, 0.5824, 0.5206, 0.5231, 0.35600000000000004, 0.5813, 0.5223, 0.5362, 0.4521, 0.4167, 0.5946, 0.4987, 0.6792, 0.62, 0.5577, 0.495, 0.3725, 0.5269, 0.4129, 0.5597, 0.5216, 0.4973, 0.491, 0.4989, 0.4989, 0.4777, 0.4777, 0.4303, 0.4303, 0.4964, 0.5464, 0.5464, 0.5272, 0.5272, 0.4947, 0.4947, 0.4286, 0.4286, 0.5455, 0.5237, 0.5839, 0.5623, 0.5623, 0.4498, 0.4498, 0.7035, 0.7035, 0.3863, 0.3863, 0.5504, 0.5439, 0.5439, 0.5439, 0.4835, 0.4835, 0.4835, 0.4773, 0.4773, 0.4773, 0.4569, 0.4569, 0.4569, 0.3894, 0.3894, 0.3894, 0.3844, 0.3844, 0.3844, 0.3662, 0.3662, 0.3662, 0.3478, 0.3478, 0.3478, 0.4818, 0.5162, 0.5162, 0.4967, 0.4967, 0.3714, 0.3714, 0.5496, 0.5636, 0.4457, 0.5113, 0.2738, 0.3951, 0.5229, 0.46399999999999997, 0.5634, 0.5048, 0.4163, 0.6145, 0.4124, 0.4124, 0.2804, 0.2804, 0.6368, 0.5146, 0.6689, 0.4281, 0.5709, 0.6106, 0.5309, 0.5766, 0.4443, 0.5418, 0.7126, 0.5549, 0.5032, 0.5606, 0.6305, 0.1682, 0.5036, 0.4006, 0.4006, 0.3109, 0.3109, 0.5275, 0.6675, 0.6845, 0.624, 0.4984, 0.4885, 0.6204, 0.6204, 0.6204, 0.6164, 0.6164, 0.6164, 0.615, 0.615, 0.615, 0.5815, 0.633, 0.4639, 0.6102, 0.6102, 0.5201, 0.5201, 0.648, 0.5015, 0.4494, 0.4763, 0.4016, 0.4852, 0.4727, 0.5166, 0.5621, 0.5257, 0.4247, 0.4372, 0.4852, 0.5667, 0.5614, 0.5581, 0.5421, 0.6169, 0.3203, 0.5119, 0.5119, 0.5119, 0.5777, 0.5445, 0.2179, 0.4801, 0.5717, 0.5717, 0.4315, 0.4315, 0.3815, 0.4695, 0.5832, 0.4903, 0.4322, 0.4322, 0.4322, 0.4114, 0.4114, 0.4114, 0.3858, 0.3858, 0.3858, 0.3395, 0.3395, 0.3395, 0.5205, 0.4934, 0.4052, 0.5036], \"yaxis\": \"y\"}],\n",
              "                        {\"barmode\": \"relative\", \"legend\": {\"tracegroupgap\": 0}, \"template\": {\"data\": {\"bar\": [{\"error_x\": {\"color\": \"#2a3f5f\"}, \"error_y\": {\"color\": \"#2a3f5f\"}, \"marker\": {\"line\": {\"color\": \"#E5ECF6\", \"width\": 0.5}}, \"type\": \"bar\"}], \"barpolar\": [{\"marker\": {\"line\": {\"color\": \"#E5ECF6\", \"width\": 0.5}}, \"type\": \"barpolar\"}], \"carpet\": [{\"aaxis\": {\"endlinecolor\": \"#2a3f5f\", \"gridcolor\": \"white\", \"linecolor\": \"white\", \"minorgridcolor\": \"white\", \"startlinecolor\": \"#2a3f5f\"}, \"baxis\": {\"endlinecolor\": \"#2a3f5f\", \"gridcolor\": \"white\", \"linecolor\": \"white\", \"minorgridcolor\": \"white\", \"startlinecolor\": \"#2a3f5f\"}, \"type\": \"carpet\"}], \"choropleth\": [{\"colorbar\": {\"outlinewidth\": 0, \"ticks\": \"\"}, \"type\": \"choropleth\"}], \"contour\": [{\"colorbar\": {\"outlinewidth\": 0, \"ticks\": \"\"}, \"colorscale\": [[0.0, \"#0d0887\"], [0.1111111111111111, \"#46039f\"], [0.2222222222222222, \"#7201a8\"], [0.3333333333333333, \"#9c179e\"], [0.4444444444444444, \"#bd3786\"], [0.5555555555555556, \"#d8576b\"], [0.6666666666666666, \"#ed7953\"], [0.7777777777777778, \"#fb9f3a\"], [0.8888888888888888, \"#fdca26\"], [1.0, \"#f0f921\"]], \"type\": \"contour\"}], \"contourcarpet\": [{\"colorbar\": {\"outlinewidth\": 0, \"ticks\": \"\"}, \"type\": \"contourcarpet\"}], \"heatmap\": [{\"colorbar\": {\"outlinewidth\": 0, \"ticks\": \"\"}, \"colorscale\": [[0.0, \"#0d0887\"], [0.1111111111111111, \"#46039f\"], [0.2222222222222222, \"#7201a8\"], [0.3333333333333333, \"#9c179e\"], [0.4444444444444444, \"#bd3786\"], [0.5555555555555556, \"#d8576b\"], [0.6666666666666666, \"#ed7953\"], [0.7777777777777778, \"#fb9f3a\"], [0.8888888888888888, \"#fdca26\"], [1.0, \"#f0f921\"]], \"type\": \"heatmap\"}], \"heatmapgl\": [{\"colorbar\": {\"outlinewidth\": 0, \"ticks\": \"\"}, \"colorscale\": [[0.0, \"#0d0887\"], [0.1111111111111111, \"#46039f\"], [0.2222222222222222, \"#7201a8\"], [0.3333333333333333, \"#9c179e\"], [0.4444444444444444, \"#bd3786\"], [0.5555555555555556, \"#d8576b\"], [0.6666666666666666, \"#ed7953\"], [0.7777777777777778, \"#fb9f3a\"], [0.8888888888888888, \"#fdca26\"], [1.0, \"#f0f921\"]], \"type\": \"heatmapgl\"}], \"histogram\": [{\"marker\": {\"colorbar\": {\"outlinewidth\": 0, \"ticks\": \"\"}}, \"type\": \"histogram\"}], \"histogram2d\": [{\"colorbar\": {\"outlinewidth\": 0, \"ticks\": \"\"}, \"colorscale\": [[0.0, \"#0d0887\"], [0.1111111111111111, \"#46039f\"], [0.2222222222222222, \"#7201a8\"], [0.3333333333333333, \"#9c179e\"], [0.4444444444444444, \"#bd3786\"], [0.5555555555555556, \"#d8576b\"], [0.6666666666666666, \"#ed7953\"], [0.7777777777777778, \"#fb9f3a\"], [0.8888888888888888, \"#fdca26\"], [1.0, \"#f0f921\"]], \"type\": \"histogram2d\"}], \"histogram2dcontour\": [{\"colorbar\": {\"outlinewidth\": 0, \"ticks\": \"\"}, \"colorscale\": [[0.0, \"#0d0887\"], [0.1111111111111111, \"#46039f\"], [0.2222222222222222, \"#7201a8\"], [0.3333333333333333, \"#9c179e\"], [0.4444444444444444, \"#bd3786\"], [0.5555555555555556, \"#d8576b\"], [0.6666666666666666, \"#ed7953\"], [0.7777777777777778, \"#fb9f3a\"], [0.8888888888888888, \"#fdca26\"], [1.0, \"#f0f921\"]], \"type\": \"histogram2dcontour\"}], \"mesh3d\": [{\"colorbar\": {\"outlinewidth\": 0, \"ticks\": \"\"}, \"type\": \"mesh3d\"}], \"parcoords\": [{\"line\": {\"colorbar\": {\"outlinewidth\": 0, \"ticks\": \"\"}}, \"type\": \"parcoords\"}], \"pie\": [{\"automargin\": true, \"type\": \"pie\"}], \"scatter\": [{\"marker\": {\"colorbar\": {\"outlinewidth\": 0, \"ticks\": \"\"}}, \"type\": \"scatter\"}], \"scatter3d\": [{\"line\": {\"colorbar\": {\"outlinewidth\": 0, \"ticks\": \"\"}}, \"marker\": {\"colorbar\": {\"outlinewidth\": 0, \"ticks\": \"\"}}, \"type\": \"scatter3d\"}], \"scattercarpet\": [{\"marker\": {\"colorbar\": {\"outlinewidth\": 0, \"ticks\": \"\"}}, \"type\": \"scattercarpet\"}], \"scattergeo\": [{\"marker\": {\"colorbar\": {\"outlinewidth\": 0, \"ticks\": \"\"}}, \"type\": \"scattergeo\"}], \"scattergl\": [{\"marker\": {\"colorbar\": {\"outlinewidth\": 0, \"ticks\": \"\"}}, \"type\": \"scattergl\"}], \"scattermapbox\": [{\"marker\": {\"colorbar\": {\"outlinewidth\": 0, \"ticks\": \"\"}}, \"type\": \"scattermapbox\"}], \"scatterpolar\": [{\"marker\": {\"colorbar\": {\"outlinewidth\": 0, \"ticks\": \"\"}}, \"type\": \"scatterpolar\"}], \"scatterpolargl\": [{\"marker\": {\"colorbar\": {\"outlinewidth\": 0, \"ticks\": \"\"}}, \"type\": \"scatterpolargl\"}], \"scatterternary\": [{\"marker\": {\"colorbar\": {\"outlinewidth\": 0, \"ticks\": \"\"}}, \"type\": \"scatterternary\"}], \"surface\": [{\"colorbar\": {\"outlinewidth\": 0, \"ticks\": \"\"}, \"colorscale\": [[0.0, \"#0d0887\"], [0.1111111111111111, \"#46039f\"], [0.2222222222222222, \"#7201a8\"], [0.3333333333333333, \"#9c179e\"], [0.4444444444444444, \"#bd3786\"], [0.5555555555555556, \"#d8576b\"], [0.6666666666666666, \"#ed7953\"], [0.7777777777777778, \"#fb9f3a\"], [0.8888888888888888, \"#fdca26\"], [1.0, \"#f0f921\"]], \"type\": \"surface\"}], \"table\": [{\"cells\": {\"fill\": {\"color\": \"#EBF0F8\"}, \"line\": {\"color\": \"white\"}}, \"header\": {\"fill\": {\"color\": \"#C8D4E3\"}, \"line\": {\"color\": \"white\"}}, \"type\": \"table\"}]}, \"layout\": {\"annotationdefaults\": {\"arrowcolor\": \"#2a3f5f\", \"arrowhead\": 0, \"arrowwidth\": 1}, \"coloraxis\": {\"colorbar\": {\"outlinewidth\": 0, \"ticks\": \"\"}}, \"colorscale\": {\"diverging\": [[0, \"#8e0152\"], [0.1, \"#c51b7d\"], [0.2, \"#de77ae\"], [0.3, \"#f1b6da\"], [0.4, \"#fde0ef\"], [0.5, \"#f7f7f7\"], [0.6, \"#e6f5d0\"], [0.7, \"#b8e186\"], [0.8, \"#7fbc41\"], [0.9, \"#4d9221\"], [1, \"#276419\"]], \"sequential\": [[0.0, \"#0d0887\"], [0.1111111111111111, \"#46039f\"], [0.2222222222222222, \"#7201a8\"], [0.3333333333333333, \"#9c179e\"], [0.4444444444444444, \"#bd3786\"], [0.5555555555555556, \"#d8576b\"], [0.6666666666666666, \"#ed7953\"], [0.7777777777777778, \"#fb9f3a\"], [0.8888888888888888, \"#fdca26\"], [1.0, \"#f0f921\"]], \"sequentialminus\": [[0.0, \"#0d0887\"], [0.1111111111111111, \"#46039f\"], [0.2222222222222222, \"#7201a8\"], [0.3333333333333333, \"#9c179e\"], [0.4444444444444444, \"#bd3786\"], [0.5555555555555556, \"#d8576b\"], [0.6666666666666666, \"#ed7953\"], [0.7777777777777778, \"#fb9f3a\"], [0.8888888888888888, \"#fdca26\"], [1.0, \"#f0f921\"]]}, \"colorway\": [\"#636efa\", \"#EF553B\", \"#00cc96\", \"#ab63fa\", \"#FFA15A\", \"#19d3f3\", \"#FF6692\", \"#B6E880\", \"#FF97FF\", \"#FECB52\"], \"font\": {\"color\": \"#2a3f5f\"}, \"geo\": {\"bgcolor\": \"white\", \"lakecolor\": \"white\", \"landcolor\": \"#E5ECF6\", \"showlakes\": true, \"showland\": true, \"subunitcolor\": \"white\"}, \"hoverlabel\": {\"align\": \"left\"}, \"hovermode\": \"closest\", \"mapbox\": {\"style\": \"light\"}, \"paper_bgcolor\": \"white\", \"plot_bgcolor\": \"#E5ECF6\", \"polar\": {\"angularaxis\": {\"gridcolor\": \"white\", \"linecolor\": \"white\", \"ticks\": \"\"}, \"bgcolor\": \"#E5ECF6\", \"radialaxis\": {\"gridcolor\": \"white\", \"linecolor\": \"white\", \"ticks\": \"\"}}, \"scene\": {\"xaxis\": {\"backgroundcolor\": \"#E5ECF6\", \"gridcolor\": \"white\", \"gridwidth\": 2, \"linecolor\": \"white\", \"showbackground\": true, \"ticks\": \"\", \"zerolinecolor\": \"white\"}, \"yaxis\": {\"backgroundcolor\": \"#E5ECF6\", \"gridcolor\": \"white\", \"gridwidth\": 2, \"linecolor\": \"white\", \"showbackground\": true, \"ticks\": \"\", \"zerolinecolor\": \"white\"}, \"zaxis\": {\"backgroundcolor\": \"#E5ECF6\", \"gridcolor\": \"white\", \"gridwidth\": 2, \"linecolor\": \"white\", \"showbackground\": true, \"ticks\": \"\", \"zerolinecolor\": \"white\"}}, \"shapedefaults\": {\"line\": {\"color\": \"#2a3f5f\"}}, \"ternary\": {\"aaxis\": {\"gridcolor\": \"white\", \"linecolor\": \"white\", \"ticks\": \"\"}, \"baxis\": {\"gridcolor\": \"white\", \"linecolor\": \"white\", \"ticks\": \"\"}, \"bgcolor\": \"#E5ECF6\", \"caxis\": {\"gridcolor\": \"white\", \"linecolor\": \"white\", \"ticks\": \"\"}}, \"title\": {\"x\": 0.05}, \"xaxis\": {\"automargin\": true, \"gridcolor\": \"white\", \"linecolor\": \"white\", \"ticks\": \"\", \"title\": {\"standoff\": 15}, \"zerolinecolor\": \"white\", \"zerolinewidth\": 2}, \"yaxis\": {\"automargin\": true, \"gridcolor\": \"white\", \"linecolor\": \"white\", \"ticks\": \"\", \"title\": {\"standoff\": 15}, \"zerolinecolor\": \"white\", \"zerolinewidth\": 2}}}, \"title\": {\"text\": \"test\"}, \"xaxis\": {\"anchor\": \"y\", \"domain\": [0.0, 1.0], \"title\": {\"text\": \"Neighborhood\"}}, \"yaxis\": {\"anchor\": \"x\", \"domain\": [0.0, 1.0], \"title\": {\"text\": \"Teenage Birth Rate_Black\"}}},\n",
              "                        {\"responsive\": true}\n",
              "                    ).then(function(){\n",
              "                            \n",
              "var gd = document.getElementById('9507170f-fa95-4efb-8813-0204111d95fd');\n",
              "var x = new MutationObserver(function (mutations, observer) {{\n",
              "        var display = window.getComputedStyle(gd).display;\n",
              "        if (!display || display === 'none') {{\n",
              "            console.log([gd, 'removed!']);\n",
              "            Plotly.purge(gd);\n",
              "            observer.disconnect();\n",
              "        }}\n",
              "}});\n",
              "\n",
              "// Listen for the removal of the full notebook cells\n",
              "var notebookContainer = gd.closest('#notebook-container');\n",
              "if (notebookContainer) {{\n",
              "    x.observe(notebookContainer, {childList: true});\n",
              "}}\n",
              "\n",
              "// Listen for the clearing of the current output cell\n",
              "var outputEl = gd.closest('.output');\n",
              "if (outputEl) {{\n",
              "    x.observe(outputEl, {childList: true});\n",
              "}}\n",
              "\n",
              "                        })\n",
              "                };\n",
              "                \n",
              "            </script>\n",
              "        </div>\n",
              "</body>\n",
              "</html>"
            ]
          },
          "metadata": {
            "tags": []
          }
        }
      ]
    },
    {
      "cell_type": "markdown",
      "metadata": {
        "id": "2FW4WN_oBieK"
      },
      "source": [
        "# average data"
      ]
    },
    {
      "cell_type": "code",
      "metadata": {
        "id": "hEFQCEGlBmxe",
        "colab": {
          "base_uri": "https://localhost:8080/",
          "height": 297
        },
        "outputId": "aed1ceba-6c4c-4c52-94b3-d6a77e8fe48e"
      },
      "source": [
        "# average data points by neighborhood \n",
        "\n",
        "df_sf_teenbirth_b_w_merge.describe()"
      ],
      "execution_count": 25,
      "outputs": [
        {
          "output_type": "execute_result",
          "data": {
            "text/html": [
              "<div>\n",
              "<style scoped>\n",
              "    .dataframe tbody tr th:only-of-type {\n",
              "        vertical-align: middle;\n",
              "    }\n",
              "\n",
              "    .dataframe tbody tr th {\n",
              "        vertical-align: top;\n",
              "    }\n",
              "\n",
              "    .dataframe thead th {\n",
              "        text-align: right;\n",
              "    }\n",
              "</style>\n",
              "<table border=\"1\" class=\"dataframe\">\n",
              "  <thead>\n",
              "    <tr style=\"text-align: right;\">\n",
              "      <th></th>\n",
              "      <th>tract</th>\n",
              "      <th>Teenage Birth Rate_Black</th>\n",
              "      <th>Teenage Birth Rate_White</th>\n",
              "    </tr>\n",
              "  </thead>\n",
              "  <tbody>\n",
              "    <tr>\n",
              "      <th>count</th>\n",
              "      <td>5.700000e+01</td>\n",
              "      <td>57.000000</td>\n",
              "      <td>35.000000</td>\n",
              "    </tr>\n",
              "    <tr>\n",
              "      <th>mean</th>\n",
              "      <td>6.075044e+09</td>\n",
              "      <td>0.344119</td>\n",
              "      <td>0.101114</td>\n",
              "    </tr>\n",
              "    <tr>\n",
              "      <th>std</th>\n",
              "      <td>1.269403e+05</td>\n",
              "      <td>0.118691</td>\n",
              "      <td>0.168966</td>\n",
              "    </tr>\n",
              "    <tr>\n",
              "      <th>min</th>\n",
              "      <td>6.075015e+09</td>\n",
              "      <td>0.106800</td>\n",
              "      <td>0.000000</td>\n",
              "    </tr>\n",
              "    <tr>\n",
              "      <th>25%</th>\n",
              "      <td>6.075018e+09</td>\n",
              "      <td>0.277700</td>\n",
              "      <td>0.007150</td>\n",
              "    </tr>\n",
              "    <tr>\n",
              "      <th>50%</th>\n",
              "      <td>6.075025e+09</td>\n",
              "      <td>0.332700</td>\n",
              "      <td>0.033600</td>\n",
              "    </tr>\n",
              "    <tr>\n",
              "      <th>75%</th>\n",
              "      <td>6.075026e+09</td>\n",
              "      <td>0.412700</td>\n",
              "      <td>0.101000</td>\n",
              "    </tr>\n",
              "    <tr>\n",
              "      <th>max</th>\n",
              "      <td>6.075981e+09</td>\n",
              "      <td>0.689900</td>\n",
              "      <td>0.666200</td>\n",
              "    </tr>\n",
              "  </tbody>\n",
              "</table>\n",
              "</div>"
            ],
            "text/plain": [
              "              tract  Teenage Birth Rate_Black  Teenage Birth Rate_White\n",
              "count  5.700000e+01                 57.000000                 35.000000\n",
              "mean   6.075044e+09                  0.344119                  0.101114\n",
              "std    1.269403e+05                  0.118691                  0.168966\n",
              "min    6.075015e+09                  0.106800                  0.000000\n",
              "25%    6.075018e+09                  0.277700                  0.007150\n",
              "50%    6.075025e+09                  0.332700                  0.033600\n",
              "75%    6.075026e+09                  0.412700                  0.101000\n",
              "max    6.075981e+09                  0.689900                  0.666200"
            ]
          },
          "metadata": {
            "tags": []
          },
          "execution_count": 25
        }
      ]
    },
    {
      "cell_type": "markdown",
      "metadata": {
        "id": "DEulnYA3xxKn"
      },
      "source": [
        "# bar graph of average teen birth rates by race in baltimore and sf"
      ]
    },
    {
      "cell_type": "code",
      "metadata": {
        "id": "O68YAe1STHfN"
      },
      "source": [
        ""
      ],
      "execution_count": 24,
      "outputs": []
    }
  ]
}